{
 "cells": [
  {
   "cell_type": "code",
   "execution_count": 93,
   "id": "069b03ce",
   "metadata": {},
   "outputs": [],
   "source": [
    "import numpy as np\n",
    "import random \n",
    "import matplotlib.pyplot as plt"
   ]
  },
  {
   "cell_type": "markdown",
   "id": "f88271ec",
   "metadata": {},
   "source": [
    "# Random walk of an ant in two dimensions"
   ]
  },
  {
   "cell_type": "markdown",
   "id": "1385659c",
   "metadata": {},
   "source": [
    "## 1/ First question : average number of steps before reaching a first defined closed space around the anthill"
   ]
  },
  {
   "cell_type": "code",
   "execution_count": 88,
   "id": "9887d2a8",
   "metadata": {},
   "outputs": [],
   "source": [
    "def random_walk():\n",
    "    n = 0\n",
    "    (x,y) = (0,0)\n",
    "    l_x, l_y = [0], [0]\n",
    "    \n",
    "    while abs(x)<2 and abs(y)<2:\n",
    "        \n",
    "        i = random.randint(1,4)\n",
    "        if i == 1:\n",
    "            x +=1\n",
    "        if i == 2:\n",
    "            x -=1            \n",
    "        if i == 3:\n",
    "            y +=1\n",
    "        if i == 4:\n",
    "            y -=1\n",
    "    \n",
    "        n +=1\n",
    "        #plt.xlim(-3,3)\n",
    "        #plt.ylim(-3,3)\n",
    "        l_x.append(x)\n",
    "        l_y.append(y)\n",
    "        #plt.plot(l_x,l_y,'+')\n",
    "        #plt.pause(1)\n",
    "        \n",
    "    return n, l_x,l_y"
   ]
  },
  {
   "cell_type": "code",
   "execution_count": 91,
   "id": "448425c6",
   "metadata": {},
   "outputs": [],
   "source": [
    "def average_random_walk(n):\n",
    "    l = np.array([0]*n)\n",
    "    for i in range(n):\n",
    "        l[i] = random_walk()[0]\n",
    "    return l.mean()"
   ]
  },
  {
   "cell_type": "code",
   "execution_count": 119,
   "id": "3f5a9137",
   "metadata": {},
   "outputs": [
    {
     "data": {
      "text/plain": [
       "4.494766"
      ]
     },
     "execution_count": 119,
     "metadata": {},
     "output_type": "execute_result"
    }
   ],
   "source": [
    "average_random_walk(500000)"
   ]
  },
  {
   "cell_type": "markdown",
   "id": "eb43d45e",
   "metadata": {},
   "source": [
    "***Remark*** : It corresponds to the mathematical result found. "
   ]
  },
  {
   "cell_type": "markdown",
   "id": "ba26c4a1",
   "metadata": {},
   "source": [
    "## 2/ Second question : average number of steps needed to reach a line in which the food is located."
   ]
  },
  {
   "cell_type": "code",
   "execution_count": 105,
   "id": "01cfaabb",
   "metadata": {},
   "outputs": [],
   "source": [
    "def random_walk_2():\n",
    "    n = 0\n",
    "    (x,y) = (0,0)\n",
    "    l_x, l_y = [0], [0]\n",
    "    \n",
    "    while y != 1-x:\n",
    "        \n",
    "        i = random.randint(1,4)\n",
    "        if i == 1:\n",
    "            x +=1\n",
    "        if i == 2:\n",
    "            x -=1            \n",
    "        if i == 3:\n",
    "            y +=1\n",
    "        if i == 4:\n",
    "            y -=1\n",
    "    \n",
    "        n +=1\n",
    "        #plt.xlim(-3,3)\n",
    "        #plt.ylim(-3,3)\n",
    "        l_x.append(x)\n",
    "        l_y.append(y)\n",
    "        #plt.plot(l_x,l_y,'+')\n",
    "        #plt.pause(1)\n",
    "        \n",
    "    return n, l_x,l_y"
   ]
  },
  {
   "cell_type": "code",
   "execution_count": 121,
   "id": "6bdb3f06",
   "metadata": {},
   "outputs": [],
   "source": [
    "def average_random_walk_2(n):\n",
    "    l = np.array([0]*n)\n",
    "    maximum =0\n",
    "    for i in range(n):\n",
    "        r = random_walk_2()[0]\n",
    "        l[i] = r\n",
    "        if r > maximum :\n",
    "            maximum = r\n",
    "    return l.mean(), maximum"
   ]
  },
  {
   "cell_type": "code",
   "execution_count": 125,
   "id": "d3b69d83",
   "metadata": {},
   "outputs": [
    {
     "data": {
      "text/plain": [
       "(1567.2, 290291)"
      ]
     },
     "execution_count": 125,
     "metadata": {},
     "output_type": "execute_result"
    }
   ],
   "source": [
    "average_random_walk_2(200)"
   ]
  },
  {
   "cell_type": "markdown",
   "id": "a11eeb81",
   "metadata": {},
   "source": [
    "***Remark*** : Some cases need many operations to converge. On average, it diverges to + $\\infty$ as we showed mathematically."
   ]
  },
  {
   "cell_type": "markdown",
   "id": "04784ca3",
   "metadata": {},
   "source": [
    "## 3/ Third question : average number of steps before reaching food located on a closed boundary around the anthill "
   ]
  },
  {
   "cell_type": "markdown",
   "id": "fe741d67",
   "metadata": {},
   "source": [
    "**Method** : Given a function *boundary(x,y)* which returns True if the ant is in the closed space, we are trying to approximate the number of steps necessary to reach food i.e to reach the boundary of the closed space. \n",
    "\n",
    "Basically, the ant reach food once it is on the boundary or outside (which means she reached it when she walked from the previous position). "
   ]
  },
  {
   "cell_type": "markdown",
   "id": "cf219b3a",
   "metadata": {},
   "source": [
    "### Shape of the boundary"
   ]
  },
  {
   "cell_type": "code",
   "execution_count": null,
   "id": "6d62b22a",
   "metadata": {},
   "outputs": [],
   "source": [
    "from math import sqrt"
   ]
  },
  {
   "cell_type": "code",
   "execution_count": 202,
   "id": "60ff92bc",
   "metadata": {},
   "outputs": [
    {
     "data": {
      "text/plain": [
       "[<matplotlib.lines.Line2D at 0x7ff05fece4f0>]"
      ]
     },
     "execution_count": 202,
     "metadata": {},
     "output_type": "execute_result"
    },
    {
     "data": {
      "image/png": "[encoded data removed]",
      "text/plain": [
       "<Figure size 432x288 with 1 Axes>"
      ]
     },
     "metadata": {
      "needs_background": "light"
     },
     "output_type": "display_data"
    }
   ],
   "source": [
    "X = np.linspace(-30,35,10000)\n",
    "Y_1 = np.array([0]*10000)\n",
    "Y_2 = np.array([0]*10000)\n",
    "\n",
    "for i in range(10000):\n",
    "    if (X[i]-2.5)**2 < 900:\n",
    "        Y_1[i] = 2.5 + 40*sqrt((1-((X[i]-2.5)/30)**2))\n",
    "        Y_2[i] = 2.5 - 40*sqrt((1-((X[i]-2.5)/30)**2))\n",
    "\n",
    "plt.xlim(-45,45)\n",
    "plt.ylim(-45,45)\n",
    "plt.plot(X,Y_1)\n",
    "plt.plot(X,Y_2)"
   ]
  },
  {
   "cell_type": "markdown",
   "id": "f9e94ab8",
   "metadata": {},
   "source": [
    "### Boundary function"
   ]
  },
  {
   "cell_type": "code",
   "execution_count": 206,
   "id": "d7ed6aa8",
   "metadata": {},
   "outputs": [],
   "source": [
    "def boundary(x,y):\n",
    "    if ((x-2.5)/30)**2+((y-2.5)/40)**2 < 1:\n",
    "        return True "
   ]
  },
  {
   "cell_type": "markdown",
   "id": "19ce07e9",
   "metadata": {},
   "source": [
    "*Remark* : We can adapt it easily to a new space in 2D (if we have an equation)."
   ]
  },
  {
   "cell_type": "markdown",
   "id": "f039e5ee",
   "metadata": {},
   "source": [
    "### Simulation of one random walk before reaching food"
   ]
  },
  {
   "cell_type": "code",
   "execution_count": 207,
   "id": "afe3d2d9",
   "metadata": {},
   "outputs": [],
   "source": [
    "def random_walk_3():\n",
    "    n = 0\n",
    "    (x,y) = (0,0)\n",
    " \n",
    "    while boundary(x,y) == True :\n",
    "        \n",
    "        i = random.randint(1,4)\n",
    "        if i == 1:\n",
    "            x +=10\n",
    "        if i == 2:\n",
    "            x -=10           \n",
    "        if i == 3:\n",
    "            y +=10\n",
    "        if i == 4:\n",
    "            y -=10\n",
    "    \n",
    "        n +=1\n",
    "        \n",
    "    return n"
   ]
  },
  {
   "cell_type": "markdown",
   "id": "c74cd682",
   "metadata": {},
   "source": [
    "### Simulation of n random walks "
   ]
  },
  {
   "cell_type": "code",
   "execution_count": 209,
   "id": "bffdf510",
   "metadata": {},
   "outputs": [],
   "source": [
    "def average_random_walk_3(n):\n",
    "    l = np.array([0]*n)\n",
    "    for i in range(n):\n",
    "        l[i] = random_walk_3()\n",
    "    return l.mean()"
   ]
  },
  {
   "cell_type": "code",
   "execution_count": 210,
   "id": "2de2942f",
   "metadata": {},
   "outputs": [
    {
     "data": {
      "text/plain": [
       "13.96178"
      ]
     },
     "execution_count": 210,
     "metadata": {},
     "output_type": "execute_result"
    }
   ],
   "source": [
    "average_random_walk_3(100000)"
   ]
  },
  {
   "cell_type": "markdown",
   "id": "f8e44b29",
   "metadata": {},
   "source": [
    "**Conclusion** : We find that, on average, it requires $14$ steps to reach food."
   ]
  }
 ],
 "metadata": {
  "kernelspec": {
   "display_name": "Python 3",
   "language": "python",
   "name": "python3"
  },
  "language_info": {
   "codemirror_mode": {
    "name": "ipython",
    "version": 3
   },
   "file_extension": ".py",
   "mimetype": "text/x-python",
   "name": "python",
   "nbconvert_exporter": "python",
   "pygments_lexer": "ipython3",
   "version": "3.8.8"
  }
 },
 "nbformat": 4,
 "nbformat_minor": 5
}
